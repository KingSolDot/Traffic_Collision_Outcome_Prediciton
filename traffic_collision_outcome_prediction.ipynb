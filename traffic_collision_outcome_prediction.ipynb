{
 "cells": [
  {
   "cell_type": "code",
   "execution_count": 112,
   "metadata": {},
   "outputs": [],
   "source": [
    "import pandas as pd\n",
    "import matplotlib.pyplot as plt\n",
    "import seaborn as sns"
   ]
  },
  {
   "cell_type": "code",
   "execution_count": 113,
   "metadata": {},
   "outputs": [
    {
     "data": {
      "text/plain": [
       "(16860, 57)"
      ]
     },
     "execution_count": 113,
     "metadata": {},
     "output_type": "execute_result"
    }
   ],
   "source": [
    "df = pd.read_csv('data/KSI.csv')\n",
    "df.shape"
   ]
  },
  {
   "cell_type": "code",
   "execution_count": 114,
   "metadata": {},
   "outputs": [],
   "source": [
    "data = df[[ 'YEAR', 'DATE', 'TIME', 'HOUR', 'STREET1', 'STREET2', 'ROAD_CLASS', 'DISTRICT', 'LOCCOORD', 'ACCLOC', 'TRAFFCTL', 'VISIBILITY', 'LIGHT',\n",
    " 'RDSFCOND', 'ACCLASS', 'IMPACTYPE', 'INVTYPE', 'INVAGE', 'INJURY', 'INITDIR', 'VEHTYPE', 'MANOEUVER', 'DRIVACT', 'DRIVCOND', 'PEDTYPE', 'PEDACT', \n",
    " 'PEDCOND',  'PEDESTRIAN', 'CYCLIST', 'AUTOMOBILE', 'MOTORCYCLE', 'TRUCK','TRSN_CITY_VEH', 'EMERG_VEH', 'PASSENGER', 'SPEEDING', 'AG_DRIV', 'REDLIGHT',\n",
    "  'ALCOHOL', 'DISABILITY', 'POLICE_DIVISION','NEIGHBOURHOOD']]\n"
   ]
  },
  {
   "cell_type": "code",
   "execution_count": 115,
   "metadata": {},
   "outputs": [
    {
     "name": "stdout",
     "output_type": "stream",
     "text": [
      "<class 'pandas.core.frame.DataFrame'>\n",
      "RangeIndex: 16860 entries, 0 to 16859\n",
      "Data columns (total 42 columns):\n",
      " #   Column           Non-Null Count  Dtype \n",
      "---  ------           --------------  ----- \n",
      " 0   YEAR             16860 non-null  int64 \n",
      " 1   DATE             16860 non-null  object\n",
      " 2   TIME             16860 non-null  int64 \n",
      " 3   HOUR             16860 non-null  int64 \n",
      " 4   STREET1          16860 non-null  object\n",
      " 5   STREET2          16860 non-null  object\n",
      " 6   ROAD_CLASS       16860 non-null  object\n",
      " 7   DISTRICT         16860 non-null  object\n",
      " 8   LOCCOORD         16860 non-null  object\n",
      " 9   ACCLOC           16860 non-null  object\n",
      " 10  TRAFFCTL         16860 non-null  object\n",
      " 11  VISIBILITY       16860 non-null  object\n",
      " 12  LIGHT            16860 non-null  object\n",
      " 13  RDSFCOND         16860 non-null  object\n",
      " 14  ACCLASS          16860 non-null  object\n",
      " 15  IMPACTYPE        16860 non-null  object\n",
      " 16  INVTYPE          16860 non-null  object\n",
      " 17  INVAGE           16860 non-null  object\n",
      " 18  INJURY           16860 non-null  object\n",
      " 19  INITDIR          16860 non-null  object\n",
      " 20  VEHTYPE          16860 non-null  object\n",
      " 21  MANOEUVER        16860 non-null  object\n",
      " 22  DRIVACT          16860 non-null  object\n",
      " 23  DRIVCOND         16860 non-null  object\n",
      " 24  PEDTYPE          16860 non-null  object\n",
      " 25  PEDACT           16860 non-null  object\n",
      " 26  PEDCOND          16860 non-null  object\n",
      " 27  PEDESTRIAN       16860 non-null  object\n",
      " 28  CYCLIST          16860 non-null  object\n",
      " 29  AUTOMOBILE       16860 non-null  object\n",
      " 30  MOTORCYCLE       16860 non-null  object\n",
      " 31  TRUCK            16860 non-null  object\n",
      " 32  TRSN_CITY_VEH    16860 non-null  object\n",
      " 33  EMERG_VEH        16860 non-null  object\n",
      " 34  PASSENGER        16860 non-null  object\n",
      " 35  SPEEDING         16860 non-null  object\n",
      " 36  AG_DRIV          16860 non-null  object\n",
      " 37  REDLIGHT         16860 non-null  object\n",
      " 38  ALCOHOL          16860 non-null  object\n",
      " 39  DISABILITY       16860 non-null  object\n",
      " 40  POLICE_DIVISION  16860 non-null  object\n",
      " 41  NEIGHBOURHOOD    16860 non-null  object\n",
      "dtypes: int64(3), object(39)\n",
      "memory usage: 5.4+ MB\n"
     ]
    }
   ],
   "source": [
    "data.info()"
   ]
  },
  {
   "cell_type": "code",
   "execution_count": 116,
   "metadata": {},
   "outputs": [
    {
     "data": {
      "text/html": [
       "<div>\n",
       "<style scoped>\n",
       "    .dataframe tbody tr th:only-of-type {\n",
       "        vertical-align: middle;\n",
       "    }\n",
       "\n",
       "    .dataframe tbody tr th {\n",
       "        vertical-align: top;\n",
       "    }\n",
       "\n",
       "    .dataframe thead th {\n",
       "        text-align: right;\n",
       "    }\n",
       "</style>\n",
       "<table border=\"1\" class=\"dataframe\">\n",
       "  <thead>\n",
       "    <tr style=\"text-align: right;\">\n",
       "      <th></th>\n",
       "      <th>YEAR</th>\n",
       "      <th>TIME</th>\n",
       "      <th>HOUR</th>\n",
       "    </tr>\n",
       "  </thead>\n",
       "  <tbody>\n",
       "    <tr>\n",
       "      <th>count</th>\n",
       "      <td>16860.000000</td>\n",
       "      <td>16860.000000</td>\n",
       "      <td>16860.000000</td>\n",
       "    </tr>\n",
       "    <tr>\n",
       "      <th>mean</th>\n",
       "      <td>2012.256168</td>\n",
       "      <td>1352.106821</td>\n",
       "      <td>13.241103</td>\n",
       "    </tr>\n",
       "    <tr>\n",
       "      <th>std</th>\n",
       "      <td>4.252797</td>\n",
       "      <td>629.726747</td>\n",
       "      <td>6.302679</td>\n",
       "    </tr>\n",
       "    <tr>\n",
       "      <th>min</th>\n",
       "      <td>2006.000000</td>\n",
       "      <td>0.000000</td>\n",
       "      <td>0.000000</td>\n",
       "    </tr>\n",
       "    <tr>\n",
       "      <th>25%</th>\n",
       "      <td>2009.000000</td>\n",
       "      <td>913.000000</td>\n",
       "      <td>9.000000</td>\n",
       "    </tr>\n",
       "    <tr>\n",
       "      <th>50%</th>\n",
       "      <td>2012.000000</td>\n",
       "      <td>1442.000000</td>\n",
       "      <td>14.000000</td>\n",
       "    </tr>\n",
       "    <tr>\n",
       "      <th>75%</th>\n",
       "      <td>2016.000000</td>\n",
       "      <td>1845.000000</td>\n",
       "      <td>18.000000</td>\n",
       "    </tr>\n",
       "    <tr>\n",
       "      <th>max</th>\n",
       "      <td>2020.000000</td>\n",
       "      <td>2359.000000</td>\n",
       "      <td>23.000000</td>\n",
       "    </tr>\n",
       "  </tbody>\n",
       "</table>\n",
       "</div>"
      ],
      "text/plain": [
       "               YEAR          TIME          HOUR\n",
       "count  16860.000000  16860.000000  16860.000000\n",
       "mean    2012.256168   1352.106821     13.241103\n",
       "std        4.252797    629.726747      6.302679\n",
       "min     2006.000000      0.000000      0.000000\n",
       "25%     2009.000000    913.000000      9.000000\n",
       "50%     2012.000000   1442.000000     14.000000\n",
       "75%     2016.000000   1845.000000     18.000000\n",
       "max     2020.000000   2359.000000     23.000000"
      ]
     },
     "execution_count": 116,
     "metadata": {},
     "output_type": "execute_result"
    }
   ],
   "source": [
    "data.describe()"
   ]
  },
  {
   "cell_type": "code",
   "execution_count": 117,
   "metadata": {},
   "outputs": [
    {
     "data": {
      "text/html": [
       "<div>\n",
       "<style scoped>\n",
       "    .dataframe tbody tr th:only-of-type {\n",
       "        vertical-align: middle;\n",
       "    }\n",
       "\n",
       "    .dataframe tbody tr th {\n",
       "        vertical-align: top;\n",
       "    }\n",
       "\n",
       "    .dataframe thead th {\n",
       "        text-align: right;\n",
       "    }\n",
       "</style>\n",
       "<table border=\"1\" class=\"dataframe\">\n",
       "  <thead>\n",
       "    <tr style=\"text-align: right;\">\n",
       "      <th></th>\n",
       "      <th>YEAR</th>\n",
       "      <th>DATE</th>\n",
       "      <th>TIME</th>\n",
       "      <th>HOUR</th>\n",
       "      <th>STREET1</th>\n",
       "      <th>STREET2</th>\n",
       "      <th>ROAD_CLASS</th>\n",
       "      <th>DISTRICT</th>\n",
       "      <th>LOCCOORD</th>\n",
       "      <th>ACCLOC</th>\n",
       "      <th>...</th>\n",
       "      <th>TRSN_CITY_VEH</th>\n",
       "      <th>EMERG_VEH</th>\n",
       "      <th>PASSENGER</th>\n",
       "      <th>SPEEDING</th>\n",
       "      <th>AG_DRIV</th>\n",
       "      <th>REDLIGHT</th>\n",
       "      <th>ALCOHOL</th>\n",
       "      <th>DISABILITY</th>\n",
       "      <th>POLICE_DIVISION</th>\n",
       "      <th>NEIGHBOURHOOD</th>\n",
       "    </tr>\n",
       "  </thead>\n",
       "  <tbody>\n",
       "    <tr>\n",
       "      <th>0</th>\n",
       "      <td>2006</td>\n",
       "      <td>2006/03/11 05:00:00+00</td>\n",
       "      <td>852</td>\n",
       "      <td>8</td>\n",
       "      <td>BLOOR ST W</td>\n",
       "      <td>DUNDAS ST W</td>\n",
       "      <td>Major Arterial</td>\n",
       "      <td>Toronto and East York</td>\n",
       "      <td>Intersection</td>\n",
       "      <td>At Intersection</td>\n",
       "      <td>...</td>\n",
       "      <td>&lt;Null&gt;</td>\n",
       "      <td>&lt;Null&gt;</td>\n",
       "      <td>&lt;Null&gt;</td>\n",
       "      <td>&lt;Null&gt;</td>\n",
       "      <td>Yes</td>\n",
       "      <td>&lt;Null&gt;</td>\n",
       "      <td>&lt;Null&gt;</td>\n",
       "      <td>&lt;Null&gt;</td>\n",
       "      <td>D11</td>\n",
       "      <td>High Park North (88)</td>\n",
       "    </tr>\n",
       "    <tr>\n",
       "      <th>1</th>\n",
       "      <td>2006</td>\n",
       "      <td>2006/03/11 05:00:00+00</td>\n",
       "      <td>852</td>\n",
       "      <td>8</td>\n",
       "      <td>BLOOR ST W</td>\n",
       "      <td>DUNDAS ST W</td>\n",
       "      <td>Major Arterial</td>\n",
       "      <td>Toronto and East York</td>\n",
       "      <td>Intersection</td>\n",
       "      <td>At Intersection</td>\n",
       "      <td>...</td>\n",
       "      <td>&lt;Null&gt;</td>\n",
       "      <td>&lt;Null&gt;</td>\n",
       "      <td>&lt;Null&gt;</td>\n",
       "      <td>&lt;Null&gt;</td>\n",
       "      <td>Yes</td>\n",
       "      <td>&lt;Null&gt;</td>\n",
       "      <td>&lt;Null&gt;</td>\n",
       "      <td>&lt;Null&gt;</td>\n",
       "      <td>D11</td>\n",
       "      <td>High Park North (88)</td>\n",
       "    </tr>\n",
       "    <tr>\n",
       "      <th>2</th>\n",
       "      <td>2006</td>\n",
       "      <td>2006/03/11 05:00:00+00</td>\n",
       "      <td>915</td>\n",
       "      <td>9</td>\n",
       "      <td>MORNINGSIDE AVE</td>\n",
       "      <td>SHEPPARD AVE E</td>\n",
       "      <td>Major Arterial</td>\n",
       "      <td>Scarborough</td>\n",
       "      <td>Intersection</td>\n",
       "      <td>At Intersection</td>\n",
       "      <td>...</td>\n",
       "      <td>&lt;Null&gt;</td>\n",
       "      <td>&lt;Null&gt;</td>\n",
       "      <td>&lt;Null&gt;</td>\n",
       "      <td>&lt;Null&gt;</td>\n",
       "      <td>Yes</td>\n",
       "      <td>Yes</td>\n",
       "      <td>&lt;Null&gt;</td>\n",
       "      <td>&lt;Null&gt;</td>\n",
       "      <td>D42</td>\n",
       "      <td>Rouge (131)</td>\n",
       "    </tr>\n",
       "    <tr>\n",
       "      <th>3</th>\n",
       "      <td>2006</td>\n",
       "      <td>2006/03/11 05:00:00+00</td>\n",
       "      <td>915</td>\n",
       "      <td>9</td>\n",
       "      <td>MORNINGSIDE AVE</td>\n",
       "      <td>SHEPPARD AVE E</td>\n",
       "      <td>Major Arterial</td>\n",
       "      <td>Scarborough</td>\n",
       "      <td>Intersection</td>\n",
       "      <td>At Intersection</td>\n",
       "      <td>...</td>\n",
       "      <td>&lt;Null&gt;</td>\n",
       "      <td>&lt;Null&gt;</td>\n",
       "      <td>&lt;Null&gt;</td>\n",
       "      <td>&lt;Null&gt;</td>\n",
       "      <td>Yes</td>\n",
       "      <td>Yes</td>\n",
       "      <td>&lt;Null&gt;</td>\n",
       "      <td>&lt;Null&gt;</td>\n",
       "      <td>D42</td>\n",
       "      <td>Rouge (131)</td>\n",
       "    </tr>\n",
       "    <tr>\n",
       "      <th>4</th>\n",
       "      <td>2006</td>\n",
       "      <td>2006/03/12 05:00:00+00</td>\n",
       "      <td>240</td>\n",
       "      <td>2</td>\n",
       "      <td>EGLINTON AVE E</td>\n",
       "      <td>COMMONWEALTH AVE</td>\n",
       "      <td>Major Arterial</td>\n",
       "      <td>Scarborough</td>\n",
       "      <td>Mid-Block</td>\n",
       "      <td>&lt;Null&gt;</td>\n",
       "      <td>...</td>\n",
       "      <td>&lt;Null&gt;</td>\n",
       "      <td>&lt;Null&gt;</td>\n",
       "      <td>&lt;Null&gt;</td>\n",
       "      <td>&lt;Null&gt;</td>\n",
       "      <td>&lt;Null&gt;</td>\n",
       "      <td>&lt;Null&gt;</td>\n",
       "      <td>Yes</td>\n",
       "      <td>&lt;Null&gt;</td>\n",
       "      <td>D41</td>\n",
       "      <td>Eglinton East (138)</td>\n",
       "    </tr>\n",
       "  </tbody>\n",
       "</table>\n",
       "<p>5 rows × 42 columns</p>\n",
       "</div>"
      ],
      "text/plain": [
       "   YEAR                    DATE  TIME  HOUR          STREET1  \\\n",
       "0  2006  2006/03/11 05:00:00+00   852     8       BLOOR ST W   \n",
       "1  2006  2006/03/11 05:00:00+00   852     8       BLOOR ST W   \n",
       "2  2006  2006/03/11 05:00:00+00   915     9  MORNINGSIDE AVE   \n",
       "3  2006  2006/03/11 05:00:00+00   915     9  MORNINGSIDE AVE   \n",
       "4  2006  2006/03/12 05:00:00+00   240     2   EGLINTON AVE E   \n",
       "\n",
       "            STREET2      ROAD_CLASS               DISTRICT      LOCCOORD  \\\n",
       "0       DUNDAS ST W  Major Arterial  Toronto and East York  Intersection   \n",
       "1       DUNDAS ST W  Major Arterial  Toronto and East York  Intersection   \n",
       "2    SHEPPARD AVE E  Major Arterial            Scarborough  Intersection   \n",
       "3    SHEPPARD AVE E  Major Arterial            Scarborough  Intersection   \n",
       "4  COMMONWEALTH AVE  Major Arterial            Scarborough     Mid-Block   \n",
       "\n",
       "            ACCLOC  ... TRSN_CITY_VEH EMERG_VEH PASSENGER SPEEDING AG_DRIV  \\\n",
       "0  At Intersection  ...        <Null>    <Null>    <Null>   <Null>     Yes   \n",
       "1  At Intersection  ...        <Null>    <Null>    <Null>   <Null>     Yes   \n",
       "2  At Intersection  ...        <Null>    <Null>    <Null>   <Null>     Yes   \n",
       "3  At Intersection  ...        <Null>    <Null>    <Null>   <Null>     Yes   \n",
       "4           <Null>  ...        <Null>    <Null>    <Null>   <Null>  <Null>   \n",
       "\n",
       "  REDLIGHT ALCOHOL DISABILITY POLICE_DIVISION         NEIGHBOURHOOD  \n",
       "0   <Null>  <Null>     <Null>             D11  High Park North (88)  \n",
       "1   <Null>  <Null>     <Null>             D11  High Park North (88)  \n",
       "2      Yes  <Null>     <Null>             D42           Rouge (131)  \n",
       "3      Yes  <Null>     <Null>             D42           Rouge (131)  \n",
       "4   <Null>     Yes     <Null>             D41   Eglinton East (138)  \n",
       "\n",
       "[5 rows x 42 columns]"
      ]
     },
     "execution_count": 117,
     "metadata": {},
     "output_type": "execute_result"
    }
   ],
   "source": [
    "data.head()"
   ]
  },
  {
   "cell_type": "markdown",
   "metadata": {},
   "source": [
    "### Exploratory Data Analysis"
   ]
  },
  {
   "cell_type": "code",
   "execution_count": 118,
   "metadata": {},
   "outputs": [
    {
     "data": {
      "text/plain": [
       "Non-Fatal Injury        86.36\n",
       "Fatal                   13.62\n",
       "Property Damage Only     0.01\n",
       "Name: ACCLASS, dtype: float64"
      ]
     },
     "execution_count": 118,
     "metadata": {},
     "output_type": "execute_result"
    }
   ],
   "source": [
    "# Accident Class\n",
    "round(df.ACCLASS.value_counts()/len(df) * 100, 2)"
   ]
  },
  {
   "cell_type": "code",
   "execution_count": 119,
   "metadata": {},
   "outputs": [
    {
     "data": {
      "text/plain": [
       "<AxesSubplot:xlabel='ACCLASS', ylabel='count'>"
      ]
     },
     "execution_count": 119,
     "metadata": {},
     "output_type": "execute_result"
    },
    {
     "data": {
      "image/png": "[encoded data removed]",
      "text/plain": [
       "<Figure size 1000x400 with 1 Axes>"
      ]
     },
     "metadata": {},
     "output_type": "display_data"
    }
   ],
   "source": [
    "plt.figure(figsize=(10,4))\n",
    "sns.countplot(x=df['ACCLASS'])"
   ]
  },
  {
   "cell_type": "code",
   "execution_count": 120,
   "metadata": {},
   "outputs": [
    {
     "data": {
      "text/plain": [
       "<AxesSubplot:xlabel='YEAR'>"
      ]
     },
     "execution_count": 120,
     "metadata": {},
     "output_type": "execute_result"
    },
    {
     "data": {
      "image/png": "[encoded data removed]",
      "text/plain": [
       "<Figure size 1000x400 with 1 Axes>"
      ]
     },
     "metadata": {},
     "output_type": "display_data"
    }
   ],
   "source": [
    "plt.figure(figsize=(10,4))\n",
    "f = data.groupby('YEAR')['ACCLASS'].count()\n",
    "sns.barplot(x=f.index, y=f.values)\n"
   ]
  },
  {
   "cell_type": "code",
   "execution_count": 121,
   "metadata": {},
   "outputs": [
    {
     "data": {
      "text/plain": [
       "<AxesSubplot:xlabel='YEAR', ylabel='No of Victims'>"
      ]
     },
     "execution_count": 121,
     "metadata": {},
     "output_type": "execute_result"
    },
    {
     "data": {
      "image/png": "[encoded data removed]",
      "text/plain": [
       "<Figure size 1000x300 with 1 Axes>"
      ]
     },
     "metadata": {},
     "output_type": "display_data"
    }
   ],
   "source": [
    "plt.figure(figsize=(10,3))\n",
    "plt.ylabel('No of Victims')\n",
    "injury = data[data['INJURY'] == 'None']\n",
    "v = injury.groupby('YEAR')['ACCLASS'].count()\n",
    "sns.barplot(x=v.index, y=v.values)\n",
    "\n"
   ]
  },
  {
   "cell_type": "code",
   "execution_count": 122,
   "metadata": {},
   "outputs": [
    {
     "name": "stderr",
     "output_type": "stream",
     "text": [
      "C:\\Users\\HP\\AppData\\Local\\Temp\\ipykernel_16324\\3061419250.py:1: SettingWithCopyWarning: \n",
      "A value is trying to be set on a copy of a slice from a DataFrame.\n",
      "Try using .loc[row_indexer,col_indexer] = value instead\n",
      "\n",
      "See the caveats in the documentation: https://pandas.pydata.org/pandas-docs/stable/user_guide/indexing.html#returning-a-view-versus-a-copy\n",
      "  data['INJURY'] = data['INJURY'].replace('<Null>', 'None')\n"
     ]
    },
    {
     "data": {
      "text/plain": [
       "None       47.56\n",
       "Major      33.62\n",
       "Minor       7.78\n",
       "Minimal     6.18\n",
       "Fatal       4.87\n",
       "Name: INJURY, dtype: float64"
      ]
     },
     "execution_count": 122,
     "metadata": {},
     "output_type": "execute_result"
    }
   ],
   "source": [
    "data['INJURY'] = data['INJURY'].replace('<Null>', 'None')\n",
    "round(data.INJURY.value_counts()/len(data) * 100, 2)"
   ]
  },
  {
   "cell_type": "code",
   "execution_count": 139,
   "metadata": {},
   "outputs": [
    {
     "data": {
      "text/plain": [
       "8842"
      ]
     },
     "execution_count": 139,
     "metadata": {},
     "output_type": "execute_result"
    }
   ],
   "source": [
    "sum([5668, 1311, 1042,  821])"
   ]
  },
  {
   "cell_type": "code",
   "execution_count": null,
   "metadata": {},
   "outputs": [],
   "source": []
  },
  {
   "cell_type": "code",
   "execution_count": 123,
   "metadata": {},
   "outputs": [
    {
     "name": "stderr",
     "output_type": "stream",
     "text": [
      "C:\\Users\\HP\\AppData\\Local\\Temp\\ipykernel_16324\\884718231.py:1: SettingWithCopyWarning: \n",
      "A value is trying to be set on a copy of a slice from a DataFrame.\n",
      "Try using .loc[row_indexer,col_indexer] = value instead\n",
      "\n",
      "See the caveats in the documentation: https://pandas.pydata.org/pandas-docs/stable/user_guide/indexing.html#returning-a-view-versus-a-copy\n",
      "  data['DATE'] = pd.to_datetime(data['DATE'])\n",
      "C:\\Users\\HP\\AppData\\Local\\Temp\\ipykernel_16324\\884718231.py:2: SettingWithCopyWarning: \n",
      "A value is trying to be set on a copy of a slice from a DataFrame.\n",
      "Try using .loc[row_indexer,col_indexer] = value instead\n",
      "\n",
      "See the caveats in the documentation: https://pandas.pydata.org/pandas-docs/stable/user_guide/indexing.html#returning-a-view-versus-a-copy\n",
      "  data['DAY'] = data['DATE'].dt.day_name()\n"
     ]
    }
   ],
   "source": [
    "data['DATE'] = pd.to_datetime(data['DATE'])\n",
    "data['DAY'] = data['DATE'].dt.day_name()"
   ]
  },
  {
   "cell_type": "code",
   "execution_count": 127,
   "metadata": {},
   "outputs": [
    {
     "data": {
      "text/plain": [
       "DAY\n",
       "Friday       2750\n",
       "Monday       2270\n",
       "Saturday     2309\n",
       "Sunday       2300\n",
       "Thursday     2331\n",
       "Tuesday      2494\n",
       "Wednesday    2406\n",
       "Name: ACCLASS, dtype: int64"
      ]
     },
     "execution_count": 127,
     "metadata": {},
     "output_type": "execute_result"
    }
   ],
   "source": [
    "data.groupby('DAY')['ACCLASS'].count()"
   ]
  },
  {
   "cell_type": "code",
   "execution_count": 129,
   "metadata": {},
   "outputs": [
    {
     "data": {
      "text/plain": [
       "HOUR\n",
       "0      557\n",
       "1      408\n",
       "2      465\n",
       "3      421\n",
       "4      172\n",
       "5      286\n",
       "6      512\n",
       "7      543\n",
       "8      668\n",
       "9      686\n",
       "10     723\n",
       "11     714\n",
       "12     741\n",
       "13     855\n",
       "14     933\n",
       "15    1000\n",
       "16     986\n",
       "17    1095\n",
       "18    1137\n",
       "19     940\n",
       "20     922\n",
       "21     844\n",
       "22     695\n",
       "23     557\n",
       "Name: ACCLASS, dtype: int64"
      ]
     },
     "execution_count": 129,
     "metadata": {},
     "output_type": "execute_result"
    }
   ],
   "source": [
    "data.groupby('HOUR')['ACCLASS'].count()"
   ]
  },
  {
   "cell_type": "code",
   "execution_count": 131,
   "metadata": {},
   "outputs": [
    {
     "data": {
      "text/plain": [
       "At Intersection          8060\n",
       "<Null>                   5450\n",
       "Non Intersection         1968\n",
       "Intersection Related     1019\n",
       "At/Near Private Drive     318\n",
       "Private Driveway           13\n",
       "Laneway                    13\n",
       "Overpass or Bridge         12\n",
       "Underpass or Tunnel         6\n",
       "Trail                       1\n",
       "Name: ACCLOC, dtype: int64"
      ]
     },
     "execution_count": 131,
     "metadata": {},
     "output_type": "execute_result"
    }
   ],
   "source": [
    "data['ACCLOC'].value_counts()"
   ]
  },
  {
   "cell_type": "code",
   "execution_count": 133,
   "metadata": {},
   "outputs": [
    {
     "data": {
      "text/plain": [
       "unknown     2573\n",
       "20 to 24    1561\n",
       "25 to 29    1504\n",
       "30 to 34    1248\n",
       "50 to 54    1222\n",
       "35 to 39    1205\n",
       "40 to 44    1181\n",
       "45 to 49    1153\n",
       "55 to 59     993\n",
       "60 to 64     796\n",
       "15 to 19     766\n",
       "65 to 69     614\n",
       "70 to 74     488\n",
       "75 to 79     402\n",
       "80 to 84     307\n",
       "10 to 14     231\n",
       "85 to 89     196\n",
       "5 to 9       183\n",
       "0 to 4       167\n",
       "90 to 94      56\n",
       "Over 95       14\n",
       "Name: INVAGE, dtype: int64"
      ]
     },
     "execution_count": 133,
     "metadata": {},
     "output_type": "execute_result"
    }
   ],
   "source": [
    "data['INVAGE'].value_counts()"
   ]
  },
  {
   "cell_type": "code",
   "execution_count": 134,
   "metadata": {},
   "outputs": [
    {
     "data": {
      "text/plain": [
       "Driver                  7618\n",
       "Pedestrian              2871\n",
       "Passenger               2543\n",
       "Vehicle Owner           1636\n",
       "Cyclist                  726\n",
       "Motorcycle Driver        607\n",
       "Truck Driver             316\n",
       "Other Property Owner     257\n",
       "Other                    174\n",
       "Motorcycle Passenger      32\n",
       "Moped Driver              27\n",
       "Driver - Not Hit          17\n",
       "Wheelchair                13\n",
       "<Null>                    12\n",
       "In-Line Skater             5\n",
       "Trailer Owner              2\n",
       "Cyclist Passenger          2\n",
       "Pedestrian - Not Hit       1\n",
       "Witness                    1\n",
       "Name: INVTYPE, dtype: int64"
      ]
     },
     "execution_count": 134,
     "metadata": {},
     "output_type": "execute_result"
    }
   ],
   "source": [
    "data['INVTYPE'].value_counts()"
   ]
  },
  {
   "cell_type": "code",
   "execution_count": 142,
   "metadata": {},
   "outputs": [],
   "source": [
    "data.head(1).transpose().to_csv('await.csv')"
   ]
  },
  {
   "cell_type": "code",
   "execution_count": null,
   "metadata": {},
   "outputs": [],
   "source": []
  }
 ],
 "metadata": {
  "kernelspec": {
   "display_name": "Python 3.10.8 64-bit (microsoft store)",
   "language": "python",
   "name": "python3"
  },
  "language_info": {
   "codemirror_mode": {
    "name": "ipython",
    "version": 3
   },
   "file_extension": ".py",
   "mimetype": "text/x-python",
   "name": "python",
   "nbconvert_exporter": "python",
   "pygments_lexer": "ipython3",
   "version": "3.10.8"
  },
  "orig_nbformat": 4,
  "vscode": {
   "interpreter": {
    "hash": "486e0d5a79acdbfffd563ee7a67a93a5017bd2a4f66495483a69f0245c8a4a6c"
   }
  }
 },
 "nbformat": 4,
 "nbformat_minor": 2
}
